{
 "cells": [
  {
   "cell_type": "code",
   "execution_count": 1,
   "metadata": {},
   "outputs": [],
   "source": [
    "import os\n",
    "import glob\n",
    "import warnings\n",
    "import time\n",
    "import pandas as pd\n",
    "import numpy as np\n",
    "import matplotlib.pyplot as plt\n",
    "import matplotlib as mpl\n",
    "import matplotlib.font_manager as fm\n",
    "import seaborn as sns\n",
    "from bs4 import BeautifulSoup\n",
    "import requests \n",
    "from bs4 import BeautifulSoup\n",
    "from pandas.io.json import json_normalize\n",
    "import json\n",
    "%matplotlib inline\n",
    "\n",
    "if os.name == 'nt':\n",
    "    font_family = 'NanumGothic'\n",
    "else :\n",
    "    font_family = 'AppleGothic'\n",
    "    \n",
    "warnings.simplefilter(action = 'ignore', category = FutureWarning)\n",
    "\n",
    "sns.set(font = font_family, rc = {'axes.unicode_minus' : False})\n",
    "\n",
    "#현 경로를 파라미터로 지정\n",
    "SRC_PATH = os.path.join(os.getcwd(), \"src\")\n",
    "\n",
    "os.chdir(SRC_PATH)"
   ]
  },
  {
   "cell_type": "code",
   "execution_count": 10,
   "metadata": {},
   "outputs": [
    {
     "name": "stderr",
     "output_type": "stream",
     "text": [
      "c:\\Users\\user\\anaconda3\\lib\\site-packages\\urllib3\\connectionpool.py:1045: InsecureRequestWarning: Unverified HTTPS request is being made to host 'e-childschoolinfo.moe.go.kr'. Adding certificate verification is strongly advised. See: https://urllib3.readthedocs.io/en/1.26.x/advanced-usage.html#ssl-warnings\n",
      "  warnings.warn(\n"
     ]
    }
   ],
   "source": [
    "\n",
    "#유치원일반현황(신규)\n",
    "\n",
    "url = '\thttps://e-childschoolinfo.moe.go.kr/api/notice/basicInfo2.do?key=8265f8aec2b84872a529a18870166fe5&sidoCode=48&sggCode=48250' \n",
    "headers={'User-Agent':'Mozilla/5.0 (Windows NT 6.3; Win64; x64) AppleWebKit/537.36 (KHTML, like Gecko) Chrome/63.0.3239.132 Mobile Safari/537.36'} \n",
    "#params={'Key':'8265f8aec2b84872a529a18870166fe5', 'sidoCode' : '48', 'sggCode' : '48250', 'pageCnt' : '50', 'currentPage' : '1'} \n",
    "response=requests.get(url=url, headers=headers, verify=False) \n",
    "\n",
    "json_str = json.loads(response.text)\n",
    "\n",
    "df = pd.json_normalize(json_str['kinderInfo'])\n",
    "\n",
    "df.rename(columns = {'key' : '키',\n",
    "                     'kindercode' : '유치원코드',\n",
    "                     'officeedu' : '교육청명',\n",
    "                     'subofficeedu' : '교육지원청명',\n",
    "                     'kindername' : '유치원명',\n",
    "                     'establish' : '설립유형',\n",
    "                     'edate' : '설립일',\n",
    "                     'odate' : '개원일',\n",
    "                     'addr' : '주소',\n",
    "                     'telno' : '전화번호',\n",
    "                     'hpaddr' : '홈페이지',\n",
    "                     'opertime' : '운영시간',\n",
    "                     'clcnt3' : '만3세학급수',\n",
    "                     'clcnt4' : '만4세학급수',\n",
    "                     'clcnt5' : '만5세학급수',\n",
    "                     'mixclcnt' : '혼합학급수',\n",
    "                     'shclcnt' : '특수학급수',\n",
    "                     'ppcnt3' : '만3세유아수',\n",
    "                     'ppcnt4' : '만4세유아수',\n",
    "                     'ppcnt5' : '만5세유아수',\n",
    "                     'mixppcnt' : '혼합유아수',\n",
    "                     'shppcnt' : '특수유아수',\n",
    "                     'rppnname' : '대표자명',\n",
    "                     'ldgrname' : '원장명',\n",
    "                     'pbnttmng' : '공시차수',\n",
    "                     'prmstfcnt' : '인가총정원수',\n",
    "                     'ag3fpcnt' : '3세모집정원수',\n",
    "                     'ag4fpcnt' : '4세모집정원수',\n",
    "                     'ag5fpcnt' : '5세모집정원수',\n",
    "                     'mixfpcnt' : '혼합모집정원수',\n",
    "                     'spcnfpcnt' : '특수학급모집정원수'}, inplace = True)\n",
    "\n",
    "\n",
    "df.head()\n",
    "df.to_csv('김해시유치원정보.csv', index_label = '키', encoding = 'cp949')\n"
   ]
  },
  {
   "cell_type": "code",
   "execution_count": 16,
   "metadata": {},
   "outputs": [
    {
     "name": "stderr",
     "output_type": "stream",
     "text": [
      "c:\\Users\\user\\anaconda3\\lib\\site-packages\\urllib3\\connectionpool.py:1045: InsecureRequestWarning: Unverified HTTPS request is being made to host 'e-childschoolinfo.moe.go.kr'. Adding certificate verification is strongly advised. See: https://urllib3.readthedocs.io/en/1.26.x/advanced-usage.html#ssl-warnings\n",
      "  warnings.warn(\n"
     ]
    }
   ],
   "source": [
    "#통학차량현황\n",
    "\n",
    "url = 'https://e-childschoolinfo.moe.go.kr/api/notice/schoolBus.do?key=8265f8aec2b84872a529a18870166fe5&sidoCode=48&sggCode=48250' \n",
    "headers={'User-Agent':'Mozilla/5.0 (Windows NT 6.3; Win64; x64) AppleWebKit/537.36 (KHTML, like Gecko) Chrome/63.0.3239.132 Mobile Safari/537.36'} \n",
    "#params={'Key':'8265f8aec2b84872a529a18870166fe5', 'sidoCode' : '48', 'sggCode' : '48250', 'pageCnt' : '50', 'currentPage' : '1'} \n",
    "response=requests.get(url=url, headers=headers, verify=False) \n",
    "\n",
    "json_str = json.loads(response.text)\n",
    "\n",
    "df_car = pd.json_normalize(json_str['kinderInfo'])\n",
    "\n",
    "df_car.rename(columns = {'key' : '키',\n",
    "                         'kindercode' : '유치원코드',\n",
    "                         'officeedu' : '교육청명',\n",
    "                         'subofficeedu' : '교육지원청명',\n",
    "                         'kindername' : '유치원명',\n",
    "                         'establish' : '설립유형',\n",
    "                         'vhcl_oprn_yn' : '차량운영여부',\n",
    "                         'opra_vhcnt' : '운행차량수',\n",
    "                         'dclr_vhcnt' : '신고차량수',\n",
    "                         'psg9_dclr_vhcnt' : '9인승신고차량수',\n",
    "                         'psg12_dclr_vhcnt' : '12인승신고차량수',\n",
    "                         'psg15_dclr_vhcnt' : '15인승신고차량수',\n",
    "                         'pbnttmng' : '공시차수',\n",
    "                         'page' : '페이지'}, inplace = True)\n",
    "\n",
    "df_car.to_csv('김해시_유치원_통학차량현황.csv', index_label = '키', encoding = 'cp949')"
   ]
  },
  {
   "cell_type": "code",
   "execution_count": null,
   "metadata": {},
   "outputs": [],
   "source": [
    "base_url = 'https://www.pediatrics.or.kr'\n",
    "\n",
    "name_list = []\n",
    "add_list = []\n",
    "index = 1\n",
    "\n",
    "while True:\n",
    "    try :\n",
    "        print('{}페이지 파싱......'.format(index))\n",
    "        sub_url = f'/general/hospital/index.php?searchfield=hospital_name&sido=%EA%B2%BD%EC%83%81%EB%82%A8%EB%8F%84&gugun=%EA%B9%80%ED%95%B4%EC%8B%9C&page={index}&searchfield=hospital_name&sido=%EA%B2%BD%EC%83%81%EB%82%A8%EB%8F%84&gugun=%EA%B9%80%ED%95%B4%EC%8B%9C&keyword='\n",
    "        response = requests.get(base_url + sub_url)  \n",
    "        \n",
    "        soup = BeautifulSoup(response.content, 'lxml')\n",
    "        hos_info = soup.findAll('dl', {'class':'hospitalInfo'})\n",
    "        \n",
    "        if len(hos_info) == 0:\n",
    "            print('Finished......')\n",
    "            break\n",
    "        \n",
    "        for hos in hos_info : \n",
    "            name = hos.find('span', {'class':'tit'}).get_text()\n",
    "            add = hos.find('span', {'class':'info'}).get_text()\n",
    "            name_list.append(name)\n",
    "            add_list.append(add)\n",
    "            \n",
    "        index = index + 1\n",
    "        time.sleep(3)\n",
    "    \n",
    "    except : \n",
    "        print('Unexpected Error : ', sys.exc_info()[0])\n",
    "        break\n",
    "    \n",
    "\n",
    "df = pd.DataFrame({'병원명' : name_list, '주소' : add_list})\n",
    "#df.tail()\n",
    "df.to_csv('김해시_소아청소년과_현황.csv', encoding = 'cp949')"
   ]
  }
 ],
 "metadata": {
  "kernelspec": {
   "display_name": "Python 3.9.13 ('base')",
   "language": "python",
   "name": "python3"
  },
  "language_info": {
   "codemirror_mode": {
    "name": "ipython",
    "version": 3
   },
   "file_extension": ".py",
   "mimetype": "text/x-python",
   "name": "python",
   "nbconvert_exporter": "python",
   "pygments_lexer": "ipython3",
   "version": "3.9.13 (main, Aug 25 2022, 23:51:50) [MSC v.1916 64 bit (AMD64)]"
  },
  "orig_nbformat": 4,
  "vscode": {
   "interpreter": {
    "hash": "a077222d77dfe082b8f1dd562ad70e458ac2ab76993a0b248ab0476e32e9e8dd"
   }
  }
 },
 "nbformat": 4,
 "nbformat_minor": 2
}
